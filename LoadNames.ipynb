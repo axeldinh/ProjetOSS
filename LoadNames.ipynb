{
 "cells": [
  {
   "cell_type": "markdown",
   "metadata": {},
   "source": [
    "## Recuperer les citations des fichiers et les mettre dans un csv"
   ]
  },
  {
   "cell_type": "code",
   "execution_count": 1,
   "metadata": {},
   "outputs": [],
   "source": [
    "import os\n",
    "import numpy as np\n",
    "import pandas as pd\n",
    "files_names1 = os.listdir('Datas/Oss1')\n",
    "files_names2 = os.listdir('Datas/Oss2')\n",
    "files_names = files_names1 + files_names2"
   ]
  },
  {
   "cell_type": "markdown",
   "metadata": {},
   "source": [
    "## On casse les noms pour avoir les num de scene, le film, la citation et l'extension\n",
    "ATTENTION LES TIRETS DES FICHIERS S'APPLIQUENT AU SPLIT"
   ]
  },
  {
   "cell_type": "code",
   "execution_count": 2,
   "metadata": {},
   "outputs": [],
   "source": [
    "References = []\n",
    "Film = []\n",
    "Scene = []\n",
    "Extension = []\n",
    "for inds,name in enumerate(files_names):\n",
    "    brk_name = name.split('_')\n",
    "    Film.append(brk_name[0])\n",
    "    References.append(brk_name[2][:-4])\n",
    "    Scene.append(brk_name[1])\n",
    "    Extension.append(brk_name[2][-3:])"
   ]
  },
  {
   "cell_type": "markdown",
   "metadata": {},
   "source": [
    "## On fout tout ca dans une data frame, avec comme index les parties du nom du fichier"
   ]
  },
  {
   "cell_type": "code",
   "execution_count": 3,
   "metadata": {},
   "outputs": [],
   "source": [
    "Film = pd.Series(Film, name='Film')\n",
    "Scene = pd.Series(Scene,name='Scene')\n",
    "References = pd.Series(References, name = 'Reference')\n",
    "Extension = pd.Series(Extension,name='Extension')\n",
    "\n",
    "ref_list = pd.DataFrame(pd.concat([Film,Scene,References,Extension], axis = 1))\n",
    "ref_list.set_index(['Film', 'Scene', 'Reference','Extension'], inplace=True)"
   ]
  },
  {
   "cell_type": "markdown",
   "metadata": {},
   "source": [
    "## Comment recuperer le nom du fichier complet, ouai y peut etre moyen de faire plus simple"
   ]
  },
  {
   "cell_type": "code",
   "execution_count": 4,
   "metadata": {},
   "outputs": [
    {
     "data": {
      "text/plain": [
       "\"1_scene1_C'est peut être ça que vous cherchez.mp3\""
      ]
     },
     "execution_count": 4,
     "metadata": {},
     "output_type": "execute_result"
    }
   ],
   "source": [
    "'.'.join(('_'.join(ref_list.iloc[4].name[:-1]),ref_list.iloc[4].name[-1]))\n",
    "\n",
    "'_'.join(ref_list.iloc[4].name[:-1]) + \".mp3\" # Si on a que des mp3"
   ]
  },
  {
   "cell_type": "code",
   "execution_count": 5,
   "metadata": {},
   "outputs": [],
   "source": [
    "ref_list.to_csv('Datas/ref_list.csv') # Sauvegarde"
   ]
  },
  {
   "cell_type": "markdown",
   "metadata": {},
   "source": [
    "# Comment le charger"
   ]
  },
  {
   "cell_type": "code",
   "execution_count": 6,
   "metadata": {},
   "outputs": [
    {
     "data": {
      "text/html": [
       "<div>\n",
       "<style scoped>\n",
       "    .dataframe tbody tr th:only-of-type {\n",
       "        vertical-align: middle;\n",
       "    }\n",
       "\n",
       "    .dataframe tbody tr th {\n",
       "        vertical-align: top;\n",
       "    }\n",
       "\n",
       "    .dataframe thead th {\n",
       "        text-align: right;\n",
       "    }\n",
       "</style>\n",
       "<table border=\"1\" class=\"dataframe\">\n",
       "  <thead>\n",
       "    <tr style=\"text-align: right;\">\n",
       "      <th></th>\n",
       "      <th></th>\n",
       "      <th></th>\n",
       "      <th></th>\n",
       "    </tr>\n",
       "    <tr>\n",
       "      <th>Film</th>\n",
       "      <th>Scene</th>\n",
       "      <th>Reference</th>\n",
       "      <th>Extension</th>\n",
       "    </tr>\n",
       "  </thead>\n",
       "  <tbody>\n",
       "    <tr>\n",
       "      <th rowspan=\"10\" valign=\"top\">1</th>\n",
       "      <th rowspan=\"5\" valign=\"top\">scene1</th>\n",
       "      <th>Ah oui exactement comme moi</th>\n",
       "      <th>mp3</th>\n",
       "    </tr>\n",
       "    <tr>\n",
       "      <th>Ah...Sinon</th>\n",
       "      <th>mp3</th>\n",
       "    </tr>\n",
       "    <tr>\n",
       "      <th>Alors allons redresser cet avion</th>\n",
       "      <th>mp3</th>\n",
       "    </tr>\n",
       "    <tr>\n",
       "      <th>Auf Wierdersehen, er colonel</th>\n",
       "      <th>mp3</th>\n",
       "    </tr>\n",
       "    <tr>\n",
       "      <th>C'est peut être ça que vous cherchez</th>\n",
       "      <th>mp3</th>\n",
       "    </tr>\n",
       "    <tr>\n",
       "      <th>...</th>\n",
       "      <th>...</th>\n",
       "      <th>...</th>\n",
       "    </tr>\n",
       "    <tr>\n",
       "      <th rowspan=\"4\" valign=\"top\">scene5</th>\n",
       "      <th>Oh, c'est le moins qu'on puisse dire</th>\n",
       "      <th>mp3</th>\n",
       "    </tr>\n",
       "    <tr>\n",
       "      <th>Oui non mais enfin c'est joli, hein, c'est joli quand même</th>\n",
       "      <th>mp3</th>\n",
       "    </tr>\n",
       "    <tr>\n",
       "      <th>Votre français est irréprochable Larmina</th>\n",
       "      <th>mp3</th>\n",
       "    </tr>\n",
       "    <tr>\n",
       "      <th>Vu les merveilleuses richesses de ce pays, on comprend que les étrangers aient envie de l'occuper</th>\n",
       "      <th>mp3</th>\n",
       "    </tr>\n",
       "    <tr>\n",
       "      <th>2</th>\n",
       "      <th>scene1</th>\n",
       "      <th>AAAA</th>\n",
       "      <th>mp3</th>\n",
       "    </tr>\n",
       "  </tbody>\n",
       "</table>\n",
       "<p>73 rows × 0 columns</p>\n",
       "</div>"
      ],
      "text/plain": [
       "Empty DataFrame\n",
       "Columns: []\n",
       "Index: [(1, scene1, Ah oui exactement comme moi, mp3), (1, scene1, Ah...Sinon, mp3), (1, scene1, Alors allons redresser cet avion, mp3), (1, scene1, Auf Wierdersehen, er colonel, mp3), (1, scene1, C'est peut être ça que vous cherchez, mp3), (1, scene1, ca va jack, mp3), (1, scene1, Ce qu il y a dans la serviette, les plans du v2, mp3), (1, scene1, Et merci d'avoir choisi oss117 airways, mp3), (1, scene1, Il y tout de même quelque chose qui me turlupine jack, mp3), (1, scene1, OSS117, pour vous servir, mp3), (1, scene1, rire1, mp3), (1, scene2, A votre service, mp3), (1, scene2, Baillonnée, mp3), (1, scene2, commencons tranquillement voulez vous, avant de corser les choses, mp3), (1, scene2, Je le sais ça hein, mp3), (1, scene2, Je n'ai pas aimé le truc sur les vaches, mp3), (1, scene2, Journaliste libanaise en poste à Rome, mp3), (1, scene2, Mais la princesse Al'Tarouk, la nièce du souverain d'Egypte Farouk, mp3), (1, scene2, Moi aussi je sais qui vous êtes, mp3), (1, scene2, On verra cela, mp3), (1, scene2, Oui mais dépéchons nous je n'ai que quelques heures, mp3), (1, scene2, Pas envie..., mp3), (1, scene2, Quoi qu'il en soit princesse, mp3), (1, scene2, Tiens donc, mp3), (1, scene2, Vous avez quelque chose là dont j'ai un grand besoin, mp3), (1, scene2, Vous n'êtes pas Jamila Narubi, mp3), (1, scene2, Vous êtes bien grossière pour une femme dont le tonton est pharaon, mp3), (1, scene3, Arabo, mp3), (1, scene3, Comment est votre blanquette, mp3), (1, scene3, Comptez sur moi, mp3), (1, scene3, Deux blanquettes et un pot de brouille, mp3), (1, scene3, Jack1, mp3), (1, scene3, Jack2, mp3), (1, scene3, Jack3, mp3), (1, scene3, Joli cocktail, mp3), (1, scene3, Le président Coty, mp3), (1, scene3, Les, mp3), (1, scene3, On me dit le plus grand bien de vos harengs pomme à l'huile, mp3), (1, scene3, Pas de problèmes, mp3), (1, scene3, Procédure habituelle, mp3), (1, scene3, Qu'est ce donc, mp3), (1, scene3, Que ce passe t il là bas, mp3), (1, scene3, Voici ce que vous vouliez, mp3), (1, scene4, Avec du veau, mp3), (1, scene4, Bon, mp3), (1, scene4, Comment est votre blanquette, mp3), (1, scene4, Elle est bonne, mp3), (1, scene4, Hmm, bonne journée monsieur, mp3), (1, scene4, Hubert Bonnisseur de la Batte, mp3), (1, scene4, Il n'y a rien à base de veau avec des champignons, des pomme de terres, mp3), (1, scene4, Le patron vous en apportera un ramequin, vous vous ferez une idée, mp3), (1, scene4, Les plats, à base de viande, sont ils de bonne qualité, mp3), (1, scene4, Mais ici je suis Lucien Bramard, mp3), (1, scene4, Quel nom compliqué, mp3), (1, scene5, Bramard, Lucien Bramard, mp3), (1, scene5, Ceci dit c'est sympatique au fond, mp3), (1, scene5, Des millions. Ahah, des millions, vous êtes charmantes mais vous voyez ce que ça fait déjà un million Larmina, mp3), (1, scene5, Dommage quelle soit aussi sale, mp3), (1, scene5, Et de s'y éterniser, mp3), (1, scene5, Et que je trimballe des poules, que je te trimballe des pastèques, mp3), (1, scene5, Hmm, je sais j'en rage, mp3), (1, scene5, Je n'arrive pas à aimer cela, mp3), (1, scene5, Je vais réessayer je vous le promets, mp3), (1, scene5, Jolie voiture, mp3), (1, scene5, Le problème avec l'arabe, c'est que ce n'est pas facilement lisible, mp3), (1, scene5, Même au niveau du son hein, mp3), (1, scene5, Ne pas fumer me tue, mp3), (1, scene5, Non, merci je ne fume pas, mp3), (1, scene5, Oh, c'est le moins qu'on puisse dire, mp3), (1, scene5, Oui non mais enfin c'est joli, hein, c'est joli quand même, mp3), (1, scene5, Votre français est irréprochable Larmina, mp3), (1, scene5, Vu les merveilleuses richesses de ce pays, on comprend que les étrangers aient envie de l'occuper, mp3), (2, scene1, AAAA, mp3)]\n",
       "\n",
       "[73 rows x 0 columns]"
      ]
     },
     "execution_count": 6,
     "metadata": {},
     "output_type": "execute_result"
    }
   ],
   "source": [
    "ref_list = pd.read_csv('Datas/ref_list.csv',index_col = ['Film','Scene','Reference','Extension'],dtype={'Film':'string'})\n",
    "ref_list"
   ]
  },
  {
   "cell_type": "markdown",
   "metadata": {},
   "source": [
    "### LIRE DES AUDIOS"
   ]
  },
  {
   "cell_type": "code",
   "execution_count": 10,
   "metadata": {},
   "outputs": [
    {
     "ename": "AttributeError",
     "evalue": "module 'playsound' has no attribute 'playsoundWin'",
     "output_type": "error",
     "traceback": [
      "\u001b[1;31m---------------------------------------------------------------------------\u001b[0m",
      "\u001b[1;31mAttributeError\u001b[0m                            Traceback (most recent call last)",
      "\u001b[1;32m<ipython-input-10-365d509f0fcd>\u001b[0m in \u001b[0;36m<module>\u001b[1;34m\u001b[0m\n\u001b[0;32m      4\u001b[0m \u001b[1;32mfor\u001b[0m \u001b[0mi\u001b[0m \u001b[1;32min\u001b[0m \u001b[0mrange\u001b[0m\u001b[1;33m(\u001b[0m\u001b[1;36m0\u001b[0m\u001b[1;33m,\u001b[0m\u001b[0mref_list\u001b[0m\u001b[1;33m.\u001b[0m\u001b[0mshape\u001b[0m\u001b[1;33m[\u001b[0m\u001b[1;36m0\u001b[0m\u001b[1;33m]\u001b[0m\u001b[1;33m)\u001b[0m\u001b[1;33m:\u001b[0m\u001b[1;33m\u001b[0m\u001b[1;33m\u001b[0m\u001b[0m\n\u001b[0;32m      5\u001b[0m     \u001b[0mpath\u001b[0m \u001b[1;33m=\u001b[0m \u001b[1;34m\"Datas/Oss1/\"\u001b[0m\u001b[1;33m+\u001b[0m \u001b[1;34m'-'\u001b[0m\u001b[1;33m.\u001b[0m\u001b[0mjoin\u001b[0m\u001b[1;33m(\u001b[0m\u001b[0mref_list\u001b[0m\u001b[1;33m.\u001b[0m\u001b[0miloc\u001b[0m\u001b[1;33m[\u001b[0m\u001b[0mi\u001b[0m\u001b[1;33m]\u001b[0m\u001b[1;33m.\u001b[0m\u001b[0mname\u001b[0m\u001b[1;33m[\u001b[0m\u001b[1;33m:\u001b[0m\u001b[1;33m-\u001b[0m\u001b[1;36m1\u001b[0m\u001b[1;33m]\u001b[0m\u001b[1;33m)\u001b[0m \u001b[1;33m+\u001b[0m \u001b[1;34m\".mp3\"\u001b[0m\u001b[1;33m\u001b[0m\u001b[1;33m\u001b[0m\u001b[0m\n\u001b[1;32m----> 6\u001b[1;33m     \u001b[0mplaysound\u001b[0m\u001b[1;33m.\u001b[0m\u001b[0mplaysoundWin\u001b[0m\u001b[1;33m(\u001b[0m\u001b[0mpath\u001b[0m\u001b[1;33m)\u001b[0m\u001b[1;33m\u001b[0m\u001b[1;33m\u001b[0m\u001b[0m\n\u001b[0m\u001b[0;32m      7\u001b[0m     \u001b[0mprint\u001b[0m\u001b[1;33m(\u001b[0m\u001b[0mi\u001b[0m\u001b[1;33m)\u001b[0m\u001b[1;33m\u001b[0m\u001b[1;33m\u001b[0m\u001b[0m\n",
      "\u001b[1;31mAttributeError\u001b[0m: module 'playsound' has no attribute 'playsoundWin'"
     ]
    }
   ],
   "source": [
    "from mplayer import Player, CmdPrefix #marche pas chet moi\n",
    "import playsound #Bug sur certain\n",
    "\n",
    "for i in range(0,ref_list.shape[0]): \n",
    "    path = \"Datas/Oss1/\"+ '_'.join(ref_list.iloc[i].name[:-1]) + \".mp3\"\n",
    "    playsound.playsound(path)\n",
    "    print(i)"
   ]
  }
 ],
 "metadata": {
  "kernelspec": {
   "display_name": "Python 3",
   "language": "python",
   "name": "python3"
  },
  "language_info": {
   "codemirror_mode": {
    "name": "ipython",
    "version": 3
   },
   "file_extension": ".py",
   "mimetype": "text/x-python",
   "name": "python",
   "nbconvert_exporter": "python",
   "pygments_lexer": "ipython3",
   "version": "3.8.3"
  }
 },
 "nbformat": 4,
 "nbformat_minor": 4
}
